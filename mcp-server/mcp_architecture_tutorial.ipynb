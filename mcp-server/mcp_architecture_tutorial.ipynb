{
 "cells": [
  {
   "cell_type": "markdown",
   "id": "cdcb4468",
   "metadata": {},
   "source": [
    "# MCP Server Architecture Tutorial\n",
    "\n",
    "This notebook demonstrates the **Model Context Protocol (MCP)** architecture with hands-on examples:\n",
    "\n",
    "- **Server**: Provides tools and resources\n",
    "- **Client Agents**: Implement business logic using server tools\n",
    "- **Clear separation of concerns** for scalable AI applications\n",
    "\n",
    "## Architecture Overview\n",
    "\n",
    "```\n",
    "CLIENT (Agents)  ←→  MCP SERVER (Tools)  ←→  RESOURCES\n",
    "     │                      │                    │\n",
    "  ┌─────────┐          ┌─────────┐          ┌─────────┐\n",
    "  │ Facts   │          │ Web     │          │ APIs    │\n",
    "  │ Sent.   │    ←→    │ Wiki    │    ←→    │ DBs     │\n",
    "  │ Orch.   │          │ LLM     │          │ Files   │\n",
    "  └─────────┘          └─────────┘          └─────────┘\n",
    "```\n",
    "\n",
    "## Tutorial Sections\n",
    "\n",
    "1. **Setup & Server Connection**\n",
    "2. **Direct Tool Usage**\n",
    "3. **Client-side Agents**\n",
    "4. **Orchestration Patterns**\n",
    "5. **Best Practices**"
   ]
  },
  {
   "cell_type": "code",
   "execution_count": 1,
   "id": "0f3fb005",
   "metadata": {},
   "outputs": [
    {
     "name": "stdout",
     "output_type": "stream",
     "text": [
      "🔧 Setting up MCP Client Environment\n",
      "✅ Client-side agents imported successfully\n",
      "✅ Client-side agents imported successfully\n"
     ]
    },
    {
     "name": "stderr",
     "output_type": "stream",
     "text": [
      "/home/sajjad/miniconda3/envs/titan/lib/python3.10/site-packages/tqdm/auto.py:21: TqdmWarning: IProgress not found. Please update jupyter and ipywidgets. See https://ipywidgets.readthedocs.io/en/stable/user_install.html\n",
      "  from .autonotebook import tqdm as notebook_tqdm\n"
     ]
    }
   ],
   "source": [
    "# Setup: Import Client-side Agents\n",
    "print(\"🔧 Setting up MCP Client Environment\")\n",
    "\n",
    "try:\n",
    "    from client_agents import (\n",
    "        MCPClient,\n",
    "        FactExtractorAgent,\n",
    "        SentimentAnalyzerAgent,\n",
    "        OrchestrationAgent\n",
    "    )\n",
    "    print(\"✅ Client-side agents imported successfully\")\n",
    "except ImportError as e:\n",
    "    print(f\"❌ Import failed: {e}\")\n",
    "    print(\"📝 Make sure client_agents.py is in the same directory\")\n",
    "    print(\"   and GEMINI_API_KEY is set in environment\")\n",
    "    raise"
   ]
  },
  {
   "cell_type": "markdown",
   "id": "d74648ed",
   "metadata": {},
   "source": [
    "## 1. MCP Client Setup\n",
    "\n",
    "First, let's establish connection to the MCP server:"
   ]
  },
  {
   "cell_type": "code",
   "execution_count": null,
   "id": "29b67786",
   "metadata": {},
   "outputs": [],
   "source": [
    "# Initialize MCP Client\n",
    "try:\n",
    "    client = MCPClient()\n",
    "    print(\"✅ MCP Client initialized successfully\")\n",
    "except Exception as e:\n",
    "    print(f\"❌ Failed to initialize MCP Client: {e}\")\n",
    "    print(\"\udca1 Make sure MCP server is running:\")\n",
    "    print(\"   python mcp_server_tutorial.py\")"
   ]
  },
  {
   "cell_type": "markdown",
   "id": "83edbc3d",
   "metadata": {},
   "source": [
    "### Health Check\n",
    "\n",
    "Let's verify the server is running:"
   ]
  },
  {
   "cell_type": "code",
   "execution_count": null,
   "id": "d38610f5",
   "metadata": {},
   "outputs": [],
   "source": [
    "# Health Check\n",
    "health = client.check_health()\n",
    "\n",
    "if health.get('status') == 'healthy':\n",
    "    print(\"✅ Server is healthy\")\n",
    "    print(f\"   Version: {health.get('version', 'unknown')}\")\n",
    "else:\n",
    "    print(\"❌ Server is not healthy\")\n",
    "    print(\"   Start server: python mcp_server_tutorial.py\")"
   ]
  },
  {
   "cell_type": "markdown",
   "id": "069d1f87",
   "metadata": {},
   "source": [
    "### Discover Available Tools"
   ]
  },
  {
   "cell_type": "code",
   "execution_count": null,
   "id": "f3caca59",
   "metadata": {},
   "outputs": [],
   "source": [
    "# Discover Available Tools\n",
    "capabilities = client.get_capabilities()\n",
    "\n",
    "if capabilities.get('tools'):\n",
    "    tools = capabilities['tools']\n",
    "    print(f\"✅ Found {len(tools)} tools:\")\n",
    "    \n",
    "    for tool_name, tool_info in tools.items():\n",
    "        print(f\"   🔧 {tool_name}: {tool_info.get('description', 'No description')}\")\n",
    "        \n",
    "        # Show required parameters\n",
    "        required = tool_info.get('required_params', [])\n",
    "        if required:\n",
    "            print(f\"      Required: {', '.join(required)}\")\n",
    "else:\n",
    "    print(\"❌ No tools available\")"
   ]
  },
  {
   "cell_type": "markdown",
   "id": "38911acf",
   "metadata": {},
   "source": [
    "### Test a Simple Tool"
   ]
  },
  {
   "cell_type": "code",
   "execution_count": null,
   "id": "33aad6e1",
   "metadata": {},
   "outputs": [],
   "source": [
    "# Test LLM Tool\n",
    "result = client.use_tool(\"llm\", {\n",
    "    \"prompt\": \"Say hello in a friendly way\",\n",
    "    \"max_tokens\": 50\n",
    "})\n",
    "\n",
    "if result.get('success'):\n",
    "    print(\"✅ Tool call successful\")\n",
    "    print(f\"Response: {result.get('result', {}).get('text', 'No response')}\")\n",
    "else:\n",
    "    print(f\"❌ Tool call failed: {result.get('error')}\")"
   ]
  },
  {
   "cell_type": "markdown",
   "id": "12642426",
   "metadata": {},
   "source": [
    "## 2. Direct Tool Usage\n",
    "\n",
    "MCP servers provide tools that can be used directly. Each tool:\n",
    "- Has a unique name and description\n",
    "- Accepts structured parameters\n",
    "- Returns consistent response formats\n",
    "\n",
    "### Available Tool Categories:\n",
    "- **Information Retrieval**: `web_search`, `wikipedia`\n",
    "- **AI Processing**: `llm`, `summarize`\n",
    "- **Data Processing**: `json_parse`, `csv_process`\n",
    "\n",
    "Let's explore these tools:"
   ]
  },
  {
   "cell_type": "code",
   "execution_count": null,
   "id": "7a2dadb2",
   "metadata": {},
   "outputs": [],
   "source": [
    "# Web Search Tool Example\n",
    "search_result = client.use_tool(\"web_search\", {\n",
    "    \"query\": \"latest AI developments 2024\",\n",
    "    \"count\": 2\n",
    "})\n",
    "\n",
    "if search_result.get('success'):\n",
    "    results = search_result.get('result', {}).get('results', [])\n",
    "    print(f\"✅ Found {len(results)} search results\")\n",
    "    \n",
    "    for i, result in enumerate(results, 1):\n",
    "        print(f\"   {i}. {result.get('title', 'No title')}\")\n",
    "        print(f\"      URL: {result.get('url', 'No URL')}\")\n",
    "        print(f\"      Description: {result.get('description', 'No description')[:100]}...\")\n",
    "        print()\n",
    "else:\n",
    "    print(f\"❌ Search failed: {search_result.get('error')}\")"
   ]
  },
  {
   "cell_type": "code",
   "execution_count": null,
   "id": "68c14582",
   "metadata": {},
   "outputs": [],
   "source": [
    "# Wikipedia Tool Example\n",
    "wiki_result = client.use_tool(\"wikipedia\", {\n",
    "    \"query\": \"artificial intelligence\",\n",
    "    \"sentences\": 3\n",
    "})\n",
    "\n",
    "if wiki_result.get('success'):\n",
    "    wiki_data = wiki_result.get('result', {})\n",
    "    print(f\"✅ Wikipedia article found\")\n",
    "    print(f\"   Title: {wiki_data.get('title', 'No title')}\")\n",
    "    print(f\"   Summary: {wiki_data.get('summary', 'No summary')[:200]}...\")\n",
    "    print(f\"   URL: {wiki_data.get('url', 'No URL')}\")\n",
    "else:\n",
    "    print(f\"❌ Wikipedia search failed: {wiki_result.get('error')}\")"
   ]
  },
  {
   "cell_type": "code",
   "execution_count": null,
   "id": "6a2689fe",
   "metadata": {},
   "outputs": [],
   "source": [
    "# JSON Processing Tool Example\n",
    "json_result = client.use_tool(\"json_process\", {\n",
    "    \"json_string\": '{\"name\": \"Alice\", \"age\": 30, \"skills\": [\"Python\", \"AI\"]}',\n",
    "    \"operation\": \"validate_and_format\"\n",
    "})\n",
    "\n",
    "if json_result.get('success'):\n",
    "    json_data = json_result.get('result', {})\n",
    "    print(f\"✅ JSON processing successful\")\n",
    "    print(f\"   Valid: {json_data.get('valid', 'unknown')}\")\n",
    "    print(f\"   Formatted: {json_data.get('formatted', 'No formatted output')}\")\n",
    "else:\n",
    "    print(f\"❌ JSON processing failed: {json_result.get('error')}\")"
   ]
  },
  {
   "cell_type": "markdown",
   "id": "304e78d8",
   "metadata": {},
   "source": [
    "## 3. Client-side Agents\n",
    "\n",
    "Agents add intelligence and business logic on top of server tools. They:\n",
    "- Combine multiple tools to accomplish complex tasks\n",
    "- Add domain-specific knowledge and processing\n",
    "- Make decisions based on context and requirements\n",
    "\n",
    "### Our Agent Types:\n",
    "\n",
    "1. **FactExtractorAgent**: Extracts structured facts from text\n",
    "2. **SentimentAnalyzerAgent**: Analyzes emotional tone and sentiment  \n",
    "3. **OrchestrationAgent**: Coordinates multiple agents for complex queries\n",
    "\n",
    "Let's see them in action:"
   ]
  },
  {
   "cell_type": "code",
   "execution_count": null,
   "id": "6aea22fe",
   "metadata": {},
   "outputs": [],
   "source": [
    "# Initialize Agents\n",
    "fact_agent = FactExtractorAgent(client)\n",
    "sentiment_agent = SentimentAnalyzerAgent(client)\n",
    "orchestrator = OrchestrationAgent(client)\n",
    "\n",
    "print(\"\udd16 Agents initialized successfully\")"
   ]
  },
  {
   "cell_type": "markdown",
   "id": "a1b6bab4",
   "metadata": {},
   "source": [
    "### Fact Extraction Agent Example"
   ]
  },
  {
   "cell_type": "code",
   "execution_count": null,
   "id": "3dccb305",
   "metadata": {},
   "outputs": [],
   "source": [
    "# Fact Extraction Example\n",
    "sample_text = \"\"\"\n",
    "OpenAI released GPT-4 in March 2023. It has improved reasoning capabilities \n",
    "and can handle up to 32,000 tokens of context. The ChatGPT Plus subscription \n",
    "costs $20 per month and provides access to GPT-4.\n",
    "\"\"\"\n",
    "\n",
    "facts = fact_agent.extract_facts(sample_text)\n",
    "\n",
    "if 'error' not in facts:\n",
    "    print(\"✅ Fact extraction successful\")\n",
    "    \n",
    "    extracted_facts = facts.get('facts', [])\n",
    "    print(f\"\\n📋 Extracted Facts ({len(extracted_facts)}):\")\n",
    "    for i, fact in enumerate(extracted_facts, 1):\n",
    "        print(f\"   {i}. {fact}\")\n",
    "    \n",
    "    # Display entities if available\n",
    "    entities = facts.get('entities', [])\n",
    "    if entities:\n",
    "        print(f\"\\n🏷️ Entities: {', '.join(entities)}\")\n",
    "        \n",
    "    # Display summary if available\n",
    "    summary = facts.get('summary', '')\n",
    "    if summary:\n",
    "        print(f\"\\n📝 Summary: {summary}\")\n",
    "else:\n",
    "    print(f\"❌ Fact extraction failed: {facts.get('error')}\")"
   ]
  },
  {
   "cell_type": "markdown",
   "id": "69885262",
   "metadata": {},
   "source": [
    "### Sentiment Analysis Agent Example"
   ]
  },
  {
   "cell_type": "code",
   "execution_count": null,
   "id": "716d6a90",
   "metadata": {},
   "outputs": [],
   "source": [
    "# Sentiment Analysis Example\n",
    "review_text = \"I love this product! It's absolutely amazing and works perfectly. Highly recommend!\"\n",
    "\n",
    "sentiment = sentiment_agent.analyze_sentiment(review_text)\n",
    "\n",
    "if 'error' not in sentiment:\n",
    "    print(\"✅ Sentiment analysis successful\")\n",
    "    \n",
    "    sentiment_class = sentiment.get('sentiment', 'unknown')\n",
    "    confidence = sentiment.get('confidence', 0)\n",
    "    \n",
    "    print(f\"\\n🎭 Sentiment: {sentiment_class.upper()}\")\n",
    "    print(f\"📈 Confidence: {confidence:.2f} ({confidence*100:.1f}%)\")\n",
    "    \n",
    "    # Display emotional tones if available\n",
    "    tones = sentiment.get('tone', [])\n",
    "    if tones:\n",
    "        print(f\"💭 Emotional Tones: {', '.join(tones)}\")\n",
    "    \n",
    "    # Display justification if available\n",
    "    justification = sentiment.get('justification', '')\n",
    "    if justification:\n",
    "        print(f\"📝 Justification: {justification}\")\n",
    "else:\n",
    "    print(f\"❌ Sentiment analysis failed: {sentiment.get('error')}\")"
   ]
  },
  {
   "cell_type": "markdown",
   "id": "f1bb91e2",
   "metadata": {},
   "source": [
    "## 4. Orchestration Agent\n",
    "\n",
    "The **OrchestrationAgent** coordinates multiple agents and tools to handle complex queries that require different types of analysis.\n",
    "\n",
    "### Key Capabilities:\n",
    "- **Query Analysis**: Understands what processing is needed\n",
    "- **Agent Coordination**: Manages multiple agents simultaneously  \n",
    "- **Result Synthesis**: Combines results from different sources\n",
    "- **Intelligent Routing**: Decides which tools and agents to use\n",
    "\n",
    "Let's see orchestration in action:"
   ]
  },
  {
   "cell_type": "code",
   "execution_count": null,
   "id": "8c55b931",
   "metadata": {},
   "outputs": [],
   "source": [
    "# Orchestration Example\n",
    "complex_query = \"What do people think about the latest Tesla Model 3 updates?\"\n",
    "\n",
    "print(f\"🎯 Complex Query: {complex_query}\")\n",
    "print(f\"\\n🔍 This query requires:\")\n",
    "print(\"   • Factual information gathering (web search)\")\n",
    "print(\"   • Opinion/sentiment analysis\") \n",
    "print(\"   • Synthesis of multiple sources\")\n",
    "\n",
    "print(f\"\\n\ude80 Running orchestration...\")\n",
    "result = orchestrator.handle_complex_query(complex_query)\n",
    "\n",
    "if result:\n",
    "    print(\"✅ Orchestration completed successfully\")\n",
    "    \n",
    "    # Display strategy used\n",
    "    strategy = result.get('strategy', {})\n",
    "    print(f\"\\n📋 Processing Strategy:\")\n",
    "    print(f\"   • Fact extraction: {strategy.get('needs_fact_extraction', False)}\")\n",
    "    print(f\"   • Sentiment analysis: {strategy.get('needs_sentiment_analysis', False)}\")\n",
    "    print(f\"   • Web search: {strategy.get('needs_web_search', False)}\")\n",
    "    \n",
    "    # Display synthesis\n",
    "    synthesis = result.get('synthesis', {})\n",
    "    comprehensive_response = synthesis.get('comprehensive_response', 'No response')\n",
    "    print(f\"\\n💡 Comprehensive Response:\")\n",
    "    print(f\"   {comprehensive_response}\")\n",
    "    \n",
    "    # Display confidence\n",
    "    confidence = synthesis.get('confidence', 0)\n",
    "    print(f\"\\n📊 Confidence: {confidence:.2f}\")\n",
    "    \n",
    "    # Display sources\n",
    "    sources = synthesis.get('sources_used', [])\n",
    "    if sources:\n",
    "        print(f\"📚 Sources: {', '.join(sources)}\")\n",
    "else:\n",
    "    print(\"❌ Orchestration failed\")"
   ]
  },
  {
   "cell_type": "markdown",
   "id": "e1a0f0e4",
   "metadata": {},
   "source": [
    "## 5. Architecture Benefits\n",
    "\n",
    "The MCP architecture provides several key advantages:\n",
    "\n",
    "### 🎯 **Separation of Concerns**\n",
    "- **Server**: Focuses on tool provision and resource management\n",
    "- **Agents**: Focus on business logic and decision-making\n",
    "- **Clear boundaries**: Makes debugging and maintenance easier\n",
    "\n",
    "### 📈 **Scalability**\n",
    "- Multiple clients can share the same server\n",
    "- Server tools can be distributed across instances\n",
    "- Agents can be specialized and optimized independently\n",
    "\n",
    "### 🔄 **Reusability**\n",
    "- Same tools work with different agent types\n",
    "- Agents can be composed in various ways\n",
    "- Development effort is maximized across projects\n",
    "\n",
    "### 🛠️ **Maintainability**\n",
    "- Tool updates don't affect agent logic\n",
    "- Agent improvements don't require server changes\n",
    "- Modular testing and deployment strategies\n",
    "\n",
    "### \udd12 **Security**\n",
    "- Centralized access control and authentication\n",
    "- Consistent security policies across all tools\n",
    "- Resource protection and isolation"
   ]
  },
  {
   "cell_type": "markdown",
   "id": "2c7ff318",
   "metadata": {},
   "source": [
    "## 6. Best Practices\n",
    "\n",
    "### 🏗️ **Server Design**\n",
    "- **Organize tools** into logical categories\n",
    "- **Implement consistent error handling** across all tools\n",
    "- **Validate parameters** before processing\n",
    "- **Use structured response formats**\n",
    "\n",
    "### 🤖 **Agent Design**\n",
    "- **Single responsibility**: Each agent should focus on one domain\n",
    "- **Composition over inheritance**: Build complex agents from simple ones\n",
    "- **Error handling**: Implement fallback strategies\n",
    "- **Stateless design**: Avoid storing state between requests\n",
    "\n",
    "### 📊 **Monitoring & Observability**\n",
    "- **Comprehensive logging**: Log all tool usage and agent activities\n",
    "- **Performance metrics**: Track response times and success rates\n",
    "- **Health checks**: Monitor server and agent health\n",
    "- **Error tracking**: Capture and analyze failures\n",
    "\n",
    "### 🛡️ **Security**\n",
    "- **Input validation**: Sanitize all inputs before processing\n",
    "- **Access control**: Implement role-based permissions\n",
    "- **Rate limiting**: Prevent abuse and ensure fair usage\n",
    "- **Audit logging**: Track all tool and agent usage\n",
    "\n",
    "### 🔧 **Development**\n",
    "- **Unit testing**: Test agents and tools independently\n",
    "- **Integration testing**: Test complete workflows\n",
    "- **Documentation**: Document all tools and agents\n",
    "- **Version control**: Track changes to tools and agents"
   ]
  },
  {
   "cell_type": "code",
   "execution_count": null,
   "id": "d315783b",
   "metadata": {},
   "outputs": [],
   "source": [
    "# Best Practices Example: Error Handling\n",
    "print(\"🛡️ Demonstrating Robust Error Handling\")\n",
    "\n",
    "# Test with invalid tool\n",
    "result = client.use_tool(\"nonexistent_tool\", {\"param\": \"value\"})\n",
    "\n",
    "if not result.get('success'):\n",
    "    print(\"✅ Server properly returned error response\")\n",
    "    print(f\"   Error: {result.get('error', 'No error message')}\")\n",
    "else:\n",
    "    print(\"❌ Server should have returned an error\")\n",
    "\n",
    "# Test with invalid parameters\n",
    "result = client.use_tool(\"llm\", {\"invalid_param\": \"value\"})\n",
    "\n",
    "if not result.get('success'):\n",
    "    print(\"✅ Server properly validated parameters\")\n",
    "    print(f\"   Validation error: {result.get('error', 'No error message')}\")\n",
    "else:\n",
    "    print(\"⚠️ Server accepted invalid parameters\")\n",
    "\n",
    "print(\"\\n\udca1 Key Takeaway: Good error handling provides clear feedback and helps with debugging\")"
   ]
  },
  {
   "cell_type": "markdown",
   "id": "477ae12e",
   "metadata": {},
   "source": [
    "## 🎉 Conclusion\n",
    "\n",
    "### Key Takeaways:\n",
    "1. **Architecture Matters**: Proper separation enables scalable, maintainable AI applications\n",
    "2. **Composition Over Complexity**: Build complex systems from simple, reusable components\n",
    "3. **Monitor Everything**: Comprehensive logging and monitoring are essential\n",
    "4. **Security First**: Always validate inputs and implement proper access controls\n",
    "\n",
    "### Next Steps:\n",
    "- **Extend the system**: Add new tools and agents for your specific needs\n",
    "- **Production features**: Implement authentication, rate limiting, and caching\n",
    "- **Advanced orchestration**: Build complex multi-step workflows\n",
    "- **Integration**: Connect with web frameworks and databases"
   ]
  },
  {
   "cell_type": "markdown",
   "id": "e43fc00a",
   "metadata": {},
   "source": []
  }
 ],
 "metadata": {
  "kernelspec": {
   "display_name": "titan",
   "language": "python",
   "name": "python3"
  },
  "language_info": {
   "codemirror_mode": {
    "name": "ipython",
    "version": 3
   },
   "file_extension": ".py",
   "mimetype": "text/x-python",
   "name": "python",
   "nbconvert_exporter": "python",
   "pygments_lexer": "ipython3",
   "version": "3.10.15"
  }
 },
 "nbformat": 4,
 "nbformat_minor": 5
}
